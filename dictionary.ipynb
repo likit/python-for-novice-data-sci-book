{
 "cells": [
  {
   "cell_type": "markdown",
   "metadata": {
    "pycharm": {
     "name": "#%% md\n"
    }
   },
   "source": [
    "# Python dictionary"
   ]
  },
  {
   "cell_type": "markdown",
   "metadata": {
    "pycharm": {
     "name": "#%% md\n"
    }
   },
   "source": [
    "Python dictionary is a collection of key and value pairs, where a unique key is mapped directly to a single value. The value can be pretty much anything such as text, number, list, and etc."
   ]
  },
  {
   "cell_type": "code",
   "execution_count": 2,
   "metadata": {
    "collapsed": false,
    "jupyter": {
     "outputs_hidden": false
    },
    "pycharm": {
     "name": "#%%\n"
    }
   },
   "outputs": [
    {
     "data": {
      "text/plain": [
       "{'email': ['somchai@gmail.com', 'somchai@mahidol.ac.th']}"
      ]
     },
     "execution_count": 2,
     "metadata": {},
     "output_type": "execute_result"
    }
   ],
   "source": [
    "{'title': 'Dr.', 'name': 'Somchai'}  # a dictionary with a text as a value\n",
    "{'email': ['somchai@gmail.com', 'somchai@mahidol.ac.th']}  # a dictionary with a list as value"
   ]
  },
  {
   "cell_type": "markdown",
   "metadata": {},
   "source": [
    "## Dictionary construction"
   ]
  },
  {
   "cell_type": "markdown",
   "metadata": {
    "pycharm": {
     "name": "#%% md\n"
    }
   },
   "source": [
    "Like a **set** data structure, dictionary can be created using a pair of curly braces **{}** (literal) or using a **dict()** constructor. Unlike a set, key and value must be separated with a colon and each pair of key-value item must be separated by a comma."
   ]
  },
  {
   "cell_type": "markdown",
   "metadata": {
    "pycharm": {
     "name": "#%% md\n"
    }
   },
   "source": [
    "Like other data structure we can assign the dictionary to a variable."
   ]
  },
  {
   "cell_type": "code",
   "execution_count": 3,
   "metadata": {
    "collapsed": false,
    "jupyter": {
     "outputs_hidden": false
    },
    "pycharm": {
     "name": "#%%\n"
    }
   },
   "outputs": [
    {
     "name": "stdout",
     "output_type": "stream",
     "text": [
      "{'title': 'Dr.', 'name': 'Somchai', 'role': 'Manager'}\n"
     ]
    }
   ],
   "source": [
    "employee = {'title': 'Dr.', 'name': 'Somchai', 'role': 'Manager'}\n",
    "print(employee)"
   ]
  },
  {
   "cell_type": "code",
   "execution_count": 50,
   "metadata": {},
   "outputs": [
    {
     "name": "stdout",
     "output_type": "stream",
     "text": [
      "{'title': 'Dr.', 'name': 'Somchai', 'role': 'Manager'}\n"
     ]
    }
   ],
   "source": [
    "employee = dict(title='Dr.', name='Somchai', role='Manager')  # a dict constructor accepts key-value as an argument\n",
    "print(employee)"
   ]
  },
  {
   "cell_type": "code",
   "execution_count": 52,
   "metadata": {},
   "outputs": [
    {
     "name": "stdout",
     "output_type": "stream",
     "text": [
      "{'title': 'Dr.', 'name': 'Somchai', 'role': 'Manager'}\n"
     ]
    }
   ],
   "source": [
    "employee = dict([('title', 'Dr.'), ('name', 'Somchai'), ('role', 'Manager')])  # a dict constructor accepts a list of tuples\n",
    "print(employee)"
   ]
  },
  {
   "cell_type": "markdown",
   "metadata": {},
   "source": [
    "**Note** A value can be anything, but a key must be immutable object."
   ]
  },
  {
   "cell_type": "code",
   "execution_count": 60,
   "metadata": {},
   "outputs": [
    {
     "ename": "TypeError",
     "evalue": "unhashable type: 'list'",
     "output_type": "error",
     "traceback": [
      "\u001b[0;31m---------------------------------------------------------------------------\u001b[0m",
      "\u001b[0;31mTypeError\u001b[0m                                 Traceback (most recent call last)",
      "Input \u001b[0;32mIn [60]\u001b[0m, in \u001b[0;36m<cell line: 1>\u001b[0;34m()\u001b[0m\n\u001b[0;32m----> 1\u001b[0m dumb_dict \u001b[38;5;241m=\u001b[39m {[\u001b[38;5;241m1\u001b[39m,\u001b[38;5;241m2\u001b[39m,\u001b[38;5;241m3\u001b[39m]: \u001b[38;5;124m'\u001b[39m\u001b[38;5;124malist\u001b[39m\u001b[38;5;124m'\u001b[39m}  \u001b[38;5;66;03m# this will raise TypeError because the key is unhashable (mutable)\u001b[39;00m\n\u001b[1;32m      2\u001b[0m \u001b[38;5;28mprint\u001b[39m(dumb_dict)\n",
      "\u001b[0;31mTypeError\u001b[0m: unhashable type: 'list'"
     ]
    }
   ],
   "source": [
    "dumb_dict = {[1,2,3]: 'alist'}  # this will raise TypeError because the key is unhashable (mutable)\n",
    "print(dumb_dict)"
   ]
  },
  {
   "cell_type": "code",
   "execution_count": 59,
   "metadata": {},
   "outputs": [
    {
     "name": "stdout",
     "output_type": "stream",
     "text": [
      "{(1, 2, 3): 'atuple'}\n"
     ]
    }
   ],
   "source": [
    "smart_dict = {(1,2,3): 'atuple'}  # this works because a tuple is immutable\n",
    "print(smart_dict)"
   ]
  },
  {
   "cell_type": "markdown",
   "metadata": {},
   "source": [
    "## Accessing values"
   ]
  },
  {
   "cell_type": "markdown",
   "metadata": {},
   "source": [
    "A key is used for accessing data in a dictionary."
   ]
  },
  {
   "cell_type": "code",
   "execution_count": 4,
   "metadata": {
    "collapsed": false,
    "jupyter": {
     "outputs_hidden": false
    },
    "pycharm": {
     "name": "#%%\n"
    }
   },
   "outputs": [
    {
     "name": "stdout",
     "output_type": "stream",
     "text": [
      "Dr.\n",
      "Somchai\n",
      "Manager\n"
     ]
    }
   ],
   "source": [
    "employee = {'title': 'Dr.', 'name': 'Somchai', 'role': 'Manager'}\n",
    "print(employee['title'])\n",
    "print(employee['name'])\n",
    "print(employee['role'])"
   ]
  },
  {
   "cell_type": "markdown",
   "metadata": {},
   "source": [
    "KeyError is raised if a key is not found in a dictionary."
   ]
  },
  {
   "cell_type": "code",
   "execution_count": 5,
   "metadata": {
    "collapsed": false,
    "jupyter": {
     "outputs_hidden": false
    },
    "pycharm": {
     "name": "#%%\n"
    }
   },
   "outputs": [
    {
     "ename": "KeyError",
     "evalue": "'salary'",
     "output_type": "error",
     "traceback": [
      "\u001b[0;31m---------------------------------------------------------------------------\u001b[0m",
      "\u001b[0;31mKeyError\u001b[0m                                  Traceback (most recent call last)",
      "Input \u001b[0;32mIn [5]\u001b[0m, in \u001b[0;36m<cell line: 2>\u001b[0;34m()\u001b[0m\n\u001b[1;32m      1\u001b[0m employee \u001b[38;5;241m=\u001b[39m {\u001b[38;5;124m'\u001b[39m\u001b[38;5;124mtitle\u001b[39m\u001b[38;5;124m'\u001b[39m: \u001b[38;5;124m'\u001b[39m\u001b[38;5;124mDr.\u001b[39m\u001b[38;5;124m'\u001b[39m, \u001b[38;5;124m'\u001b[39m\u001b[38;5;124mname\u001b[39m\u001b[38;5;124m'\u001b[39m: \u001b[38;5;124m'\u001b[39m\u001b[38;5;124mSomchai\u001b[39m\u001b[38;5;124m'\u001b[39m, \u001b[38;5;124m'\u001b[39m\u001b[38;5;124mrole\u001b[39m\u001b[38;5;124m'\u001b[39m: \u001b[38;5;124m'\u001b[39m\u001b[38;5;124mManager\u001b[39m\u001b[38;5;124m'\u001b[39m}\n\u001b[0;32m----> 2\u001b[0m \u001b[38;5;28mprint\u001b[39m(\u001b[43memployee\u001b[49m\u001b[43m[\u001b[49m\u001b[38;5;124;43m'\u001b[39;49m\u001b[38;5;124;43msalary\u001b[39;49m\u001b[38;5;124;43m'\u001b[39;49m\u001b[43m]\u001b[49m)\n",
      "\u001b[0;31mKeyError\u001b[0m: 'salary'"
     ]
    }
   ],
   "source": [
    "employee = {'title': 'Dr.', 'name': 'Somchai', 'role': 'Manager'}\n",
    "print(employee['salary'])"
   ]
  },
  {
   "cell_type": "markdown",
   "metadata": {
    "pycharm": {
     "name": "#%% md\n"
    }
   },
   "source": [
    "A new key-value pair can be added to a dictionary by simply assigning a key and value."
   ]
  },
  {
   "cell_type": "code",
   "execution_count": 16,
   "metadata": {
    "collapsed": false,
    "jupyter": {
     "outputs_hidden": false
    },
    "pycharm": {
     "name": "#%%\n"
    }
   },
   "outputs": [
    {
     "name": "stdout",
     "output_type": "stream",
     "text": [
      "{'title': 'Dr.', 'name': 'Somchai', 'role': 'Manager', 'salary': 50000}\n"
     ]
    }
   ],
   "source": [
    "employee = {'title': 'Dr.', 'name': 'Somchai', 'role': 'Manager'}\n",
    "employee['salary'] = 50_000\n",
    "print(employee)"
   ]
  },
  {
   "cell_type": "code",
   "execution_count": 15,
   "metadata": {},
   "outputs": [
    {
     "data": {
      "text/html": [
       "\n",
       "<iframe width=\"1200\" height=\"500\" frameborder=\"0\" src=\"https://pythontutor.com/iframe-embed.html#code=employee%20%3D%20%7B'title'%3A%20'Dr.',%20'name'%3A%20'Somchai',%20'role'%3A%20'Manager'%7D&codeDivHeight=400&codeDivWidth=350&cumulative=false&curInstr=1&heapPrimitives=nevernest&origin=opt-frontend.js&py=3&rawInputLstJSON=%5B%5D&textReferences=false\"> </iframe>\n"
      ],
      "text/plain": [
       "<IPython.core.display.HTML object>"
      ]
     },
     "metadata": {},
     "output_type": "display_data"
    }
   ],
   "source": [
    "%%html\n",
    "\n",
    "<iframe width=\"1200\" height=\"500\" frameborder=\"0\" src=\"https://pythontutor.com/iframe-embed.html#code=employee%20%3D%20%7B'title'%3A%20'Dr.',%20'name'%3A%20'Somchai',%20'role'%3A%20'Manager'%7D&codeDivHeight=400&codeDivWidth=350&cumulative=false&curInstr=1&heapPrimitives=nevernest&origin=opt-frontend.js&py=3&rawInputLstJSON=%5B%5D&textReferences=false\"> </iframe>"
   ]
  },
  {
   "cell_type": "markdown",
   "metadata": {},
   "source": [
    "Dictionaries can be nested as the following example."
   ]
  },
  {
   "cell_type": "code",
   "execution_count": 19,
   "metadata": {},
   "outputs": [
    {
     "name": "stdout",
     "output_type": "stream",
     "text": [
      "{'title': 'Dr.', 'name': 'Somchai', 'role': 'Manager', 'salary': 50000, 'contact': {'email': ['somchai@gmail.com', 'somchai@mahidol.ac.th']}}\n"
     ]
    }
   ],
   "source": [
    "employee = {'title': 'Dr.', 'name': 'Somchai', 'role': 'Manager'}\n",
    "employee['salary'] = 50_000\n",
    "\n",
    "contact = {'email': ['somchai@gmail.com', 'somchai@mahidol.ac.th']}  # a dictionary with a list as value\n",
    "employee['contact'] = contact\n",
    "\n",
    "print(employee)"
   ]
  },
  {
   "cell_type": "code",
   "execution_count": 17,
   "metadata": {},
   "outputs": [
    {
     "data": {
      "text/html": [
       "<iframe width=\"800\" height=\"500\" frameborder=\"0\" src=\"https://pythontutor.com/iframe-embed.html#code=employee%20%3D%20%7B'title'%3A%20'Dr.',%20'name'%3A%20'Somchai',%20'role'%3A%20'Manager'%7D%0Aemployee%5B'salary'%5D%20%3D%2050_000%0A%0Acontact%20%3D%20%7B'email'%3A%20%5B'somchai%40gmail.com',%20'somchai%40mahidol.ac.th'%5D%7D%20%20%23%20a%20dictionary%20with%20a%20list%20as%20value%0Aemployee%5B'contact'%5D%20%3D%20contact&codeDivHeight=400&codeDivWidth=350&cumulative=false&curInstr=4&heapPrimitives=nevernest&origin=opt-frontend.js&py=3&rawInputLstJSON=%5B%5D&textReferences=false\"> </iframe>\n"
      ],
      "text/plain": [
       "<IPython.core.display.HTML object>"
      ]
     },
     "metadata": {},
     "output_type": "display_data"
    }
   ],
   "source": [
    "%%html\n",
    "<iframe width=\"800\" height=\"500\" frameborder=\"0\" src=\"https://pythontutor.com/iframe-embed.html#code=employee%20%3D%20%7B'title'%3A%20'Dr.',%20'name'%3A%20'Somchai',%20'role'%3A%20'Manager'%7D%0Aemployee%5B'salary'%5D%20%3D%2050_000%0A%0Acontact%20%3D%20%7B'email'%3A%20%5B'somchai%40gmail.com',%20'somchai%40mahidol.ac.th'%5D%7D%20%20%23%20a%20dictionary%20with%20a%20list%20as%20value%0Aemployee%5B'contact'%5D%20%3D%20contact&codeDivHeight=400&codeDivWidth=350&cumulative=false&curInstr=4&heapPrimitives=nevernest&origin=opt-frontend.js&py=3&rawInputLstJSON=%5B%5D&textReferences=false\"> </iframe>"
   ]
  },
  {
   "cell_type": "markdown",
   "metadata": {},
   "source": [
    "You can access a nested dictionary like you normally do."
   ]
  },
  {
   "cell_type": "code",
   "execution_count": 21,
   "metadata": {},
   "outputs": [
    {
     "name": "stdout",
     "output_type": "stream",
     "text": [
      "['somchai@gmail.com', 'somchai@mahidol.ac.th']\n",
      "somchai@gmail.com\n",
      "somchai@mahidol.ac.th\n"
     ]
    }
   ],
   "source": [
    "employee = {'title': 'Dr.', 'name': 'Somchai', 'role': 'Manager'}\n",
    "employee['salary'] = 50_000\n",
    "\n",
    "contact = {'email': ['somchai@gmail.com', 'somchai@mahidol.ac.th']}  # a dictionary with a list as value\n",
    "employee['contact'] = contact\n",
    "\n",
    "print(employee['contact']['email'])\n",
    "print(employee['contact']['email'][0])  # each value in an email list can be accessed using the corresponding index\n",
    "print(employee['contact']['email'][1])"
   ]
  },
  {
   "cell_type": "markdown",
   "metadata": {},
   "source": [
    "Like other collection data types, a length or the size of the dictionary can be found using a len function."
   ]
  },
  {
   "cell_type": "code",
   "execution_count": 22,
   "metadata": {},
   "outputs": [
    {
     "name": "stdout",
     "output_type": "stream",
     "text": [
      "1\n"
     ]
    }
   ],
   "source": [
    "contact = {'email': ['somchai@gmail.com', 'somchai@mahidol.ac.th']}\n",
    "print(len(contact))"
   ]
  },
  {
   "cell_type": "markdown",
   "metadata": {},
   "source": [
    "A dictionary has a unique key, so if you assign a value to an existing key, the value will be updated."
   ]
  },
  {
   "cell_type": "code",
   "execution_count": 44,
   "metadata": {},
   "outputs": [
    {
     "name": "stdout",
     "output_type": "stream",
     "text": [
      "{'title': 'Dr.', 'name': 'Somchai', 'role': 'Vice president'}\n"
     ]
    }
   ],
   "source": [
    "employee = {'title': 'Dr.', 'name': 'Somchai', 'role': 'Manager'}\n",
    "employee['role'] = 'Vice president'  # assigns a new value to the role key\n",
    "print(employee)\n"
   ]
  },
  {
   "cell_type": "markdown",
   "metadata": {},
   "source": [
    "Note that the result of the contact dict above is 1 because it only has one key."
   ]
  },
  {
   "cell_type": "markdown",
   "metadata": {},
   "source": [
    "## Dictionary built-in functions (methods)"
   ]
  },
  {
   "cell_type": "markdown",
   "metadata": {},
   "source": [
    "A dictionary comes with many useful built-in functions or methods for data manipulation. Here are some examples."
   ]
  },
  {
   "cell_type": "code",
   "execution_count": 24,
   "metadata": {},
   "outputs": [
    {
     "name": "stdout",
     "output_type": "stream",
     "text": [
      "dict_keys(['title', 'name', 'role', 'salary'])\n",
      "dict_items([('title', 'Dr.'), ('name', 'Somchai'), ('role', 'Manager'), ('salary', 50000)])\n",
      "dict_values(['Dr.', 'Somchai', 'Manager', 50000])\n"
     ]
    }
   ],
   "source": [
    "employee = {'title': 'Dr.', 'name': 'Somchai', 'role': 'Manager', 'salary': 50_000}\n",
    "\n",
    "print(employee.keys())  # returns a list (sort of) of keys\n",
    "print(employee.items())  # returns a list of items, which are a tuple\n",
    "print(employee.values())  # returns a list of values"
   ]
  },
  {
   "cell_type": "code",
   "execution_count": 28,
   "metadata": {},
   "outputs": [
    {
     "name": "stdout",
     "output_type": "stream",
     "text": [
      "{'title': 'Mr.', 'name': 'Somchai', 'role': 'Manager', 'salary': 50000, 'phone': '0933939939'}\n"
     ]
    }
   ],
   "source": [
    "employee = {'title': 'Dr.', 'name': 'Somchai', 'role': 'Manager', 'salary': 50_000}\n",
    "\n",
    "employee.update({'title': 'Mr.', 'phone': '0933939939'})  # updates the dictionary using keys and values from another dictionary\n",
    "print(employee)"
   ]
  },
  {
   "cell_type": "code",
   "execution_count": 32,
   "metadata": {},
   "outputs": [
    {
     "name": "stdout",
     "output_type": "stream",
     "text": [
      "50000\n",
      "None\n",
      "40\n"
     ]
    }
   ],
   "source": [
    "employee = {'title': 'Dr.', 'name': 'Somchai', 'role': 'Manager', 'salary': 50_000}\n",
    "\n",
    "print(employee.get('salary'))  # a get function can return a value that mapped to a given key\n",
    "print(employee.get('vacation'))  # a get function returns None if the key does not exist instead of raising KeyError\n",
    "print(employee.get('age', 40))  # a get function returns a default value if the key does not exist and the default value is specified"
   ]
  },
  {
   "cell_type": "code",
   "execution_count": 36,
   "metadata": {},
   "outputs": [
    {
     "name": "stdout",
     "output_type": "stream",
     "text": [
      "Dr.\n",
      "{'name': 'Somchai', 'role': 'Manager', 'salary': 50000}\n"
     ]
    }
   ],
   "source": [
    "employee = {'title': 'Dr.', 'name': 'Somchai', 'role': 'Manager', 'salary': 50_000}\n",
    "\n",
    "title = employee.pop('title')  # gets a value for the key and remove it from the dictionary\n",
    "print(title)\n",
    "print(employee)"
   ]
  },
  {
   "cell_type": "code",
   "execution_count": 47,
   "metadata": {},
   "outputs": [
    {
     "name": "stdout",
     "output_type": "stream",
     "text": [
      "{'name': 'Somchai', 'role': 'Manager', 'salary': 50000}\n"
     ]
    }
   ],
   "source": [
    "employee = {'title': 'Dr.', 'name': 'Somchai', 'role': 'Manager', 'salary': 50_000}\n",
    "\n",
    "del employee['title']  # a del operator also removes a key-value pair from the dictionary but no value is returned\n",
    "print(employee)"
   ]
  },
  {
   "cell_type": "code",
   "execution_count": 38,
   "metadata": {},
   "outputs": [
    {
     "name": "stdout",
     "output_type": "stream",
     "text": [
      "40\n",
      "{'title': 'Dr.', 'name': 'Somchai', 'role': 'Manager', 'salary': 50000}\n"
     ]
    }
   ],
   "source": [
    "employee = {'title': 'Dr.', 'name': 'Somchai', 'role': 'Manager', 'salary': 50_000}\n",
    "\n",
    "age = employee.pop('age', 40)  # gets a value for the key and remove it from the dictionary, use default value if the key does not exist\n",
    "print(age)\n",
    "print(employee)"
   ]
  },
  {
   "cell_type": "code",
   "execution_count": 42,
   "metadata": {},
   "outputs": [
    {
     "name": "stdout",
     "output_type": "stream",
     "text": [
      "salary has a value of 50000\n",
      "role has a value of Manager\n",
      "name has a value of Somchai\n",
      "title has a value of Dr.\n",
      "{}\n"
     ]
    }
   ],
   "source": [
    "employee = {'title': 'Dr.', 'name': 'Somchai', 'role': 'Manager', 'salary': 50_000}\n",
    "\n",
    "for i in range(len(employee)):\n",
    "    k, v = employee.popitem()\n",
    "    print(f'{k} has a value of {v}')  # removes a pair of key-value and returns a tuple of items\n",
    "    \n",
    "print(employee)  # the dictionary is now empty"
   ]
  },
  {
   "cell_type": "code",
   "execution_count": null,
   "metadata": {},
   "outputs": [],
   "source": []
  }
 ],
 "metadata": {
  "kernelspec": {
   "display_name": "Python 3 (ipykernel)",
   "language": "python",
   "name": "python3"
  },
  "language_info": {
   "codemirror_mode": {
    "name": "ipython",
    "version": 3
   },
   "file_extension": ".py",
   "mimetype": "text/x-python",
   "name": "python",
   "nbconvert_exporter": "python",
   "pygments_lexer": "ipython3",
   "version": "3.9.12"
  }
 },
 "nbformat": 4,
 "nbformat_minor": 4
}
