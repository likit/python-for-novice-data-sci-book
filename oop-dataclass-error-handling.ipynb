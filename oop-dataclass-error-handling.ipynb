{
 "cells": [
  {
   "cell_type": "markdown",
   "metadata": {},
   "source": [
    "# Object Oriented Programming"
   ]
  },
  {
   "cell_type": "markdown",
   "metadata": {},
   "source": [
    "Everything in Python is an object. You can use a type function to check what type of object it is."
   ]
  },
  {
   "cell_type": "code",
   "execution_count": 1,
   "metadata": {},
   "outputs": [
    {
     "data": {
      "text/plain": [
       "(int, float, str, list)"
      ]
     },
     "execution_count": 1,
     "metadata": {},
     "output_type": "execute_result"
    }
   ],
   "source": [
    "type(3), type(3.4), type('hello'), type(['a', 'b'])"
   ]
  },
  {
   "cell_type": "markdown",
   "metadata": {},
   "source": [
    "Like an object in the real world, an object in Python has attributes and methods. **dir** function can be used to show all attributes and methods of an object."
   ]
  },
  {
   "cell_type": "code",
   "execution_count": 2,
   "metadata": {},
   "outputs": [
    {
     "data": {
      "text/plain": [
       "['__add__',\n",
       " '__class__',\n",
       " '__contains__',\n",
       " '__delattr__',\n",
       " '__dir__',\n",
       " '__doc__',\n",
       " '__eq__',\n",
       " '__format__',\n",
       " '__ge__',\n",
       " '__getattribute__',\n",
       " '__getitem__',\n",
       " '__getnewargs__',\n",
       " '__gt__',\n",
       " '__hash__',\n",
       " '__init__',\n",
       " '__init_subclass__',\n",
       " '__iter__',\n",
       " '__le__',\n",
       " '__len__',\n",
       " '__lt__',\n",
       " '__mod__',\n",
       " '__mul__',\n",
       " '__ne__',\n",
       " '__new__',\n",
       " '__reduce__',\n",
       " '__reduce_ex__',\n",
       " '__repr__',\n",
       " '__rmod__',\n",
       " '__rmul__',\n",
       " '__setattr__',\n",
       " '__sizeof__',\n",
       " '__str__',\n",
       " '__subclasshook__',\n",
       " 'capitalize',\n",
       " 'casefold',\n",
       " 'center',\n",
       " 'count',\n",
       " 'encode',\n",
       " 'endswith',\n",
       " 'expandtabs',\n",
       " 'find',\n",
       " 'format',\n",
       " 'format_map',\n",
       " 'index',\n",
       " 'isalnum',\n",
       " 'isalpha',\n",
       " 'isascii',\n",
       " 'isdecimal',\n",
       " 'isdigit',\n",
       " 'isidentifier',\n",
       " 'islower',\n",
       " 'isnumeric',\n",
       " 'isprintable',\n",
       " 'isspace',\n",
       " 'istitle',\n",
       " 'isupper',\n",
       " 'join',\n",
       " 'ljust',\n",
       " 'lower',\n",
       " 'lstrip',\n",
       " 'maketrans',\n",
       " 'partition',\n",
       " 'removeprefix',\n",
       " 'removesuffix',\n",
       " 'replace',\n",
       " 'rfind',\n",
       " 'rindex',\n",
       " 'rjust',\n",
       " 'rpartition',\n",
       " 'rsplit',\n",
       " 'rstrip',\n",
       " 'split',\n",
       " 'splitlines',\n",
       " 'startswith',\n",
       " 'strip',\n",
       " 'swapcase',\n",
       " 'title',\n",
       " 'translate',\n",
       " 'upper',\n",
       " 'zfill']"
      ]
     },
     "execution_count": 2,
     "metadata": {},
     "output_type": "execute_result"
    }
   ],
   "source": [
    "dir('hello')"
   ]
  },
  {
   "cell_type": "markdown",
   "metadata": {},
   "source": [
    "Attributes usually define characteristics of an object and methods are what the object can do. For example, the **len** function can be used to get a length attribute of a string."
   ]
  },
  {
   "cell_type": "code",
   "execution_count": 3,
   "metadata": {},
   "outputs": [
    {
     "data": {
      "text/plain": [
       "5"
      ]
     },
     "execution_count": 3,
     "metadata": {},
     "output_type": "execute_result"
    }
   ],
   "source": [
    "a = 'hello'\n",
    "len(a)"
   ]
  },
  {
   "cell_type": "markdown",
   "metadata": {},
   "source": [
    "**upper** method turns a data (string) into an uppercase."
   ]
  },
  {
   "cell_type": "code",
   "execution_count": 4,
   "metadata": {},
   "outputs": [
    {
     "data": {
      "text/plain": [
       "'HELLO'"
      ]
     },
     "execution_count": 4,
     "metadata": {},
     "output_type": "execute_result"
    }
   ],
   "source": [
    "a = 'hello'\n",
    "a.upper()"
   ]
  },
  {
   "cell_type": "markdown",
   "metadata": {},
   "source": [
    "Mostly in Python, we don't care so much about the exact type of an object, as long as we can expect some attributes and methods from them. For example, the **len** works on any type of object as long as it has a **\\_\\_len\\_\\_** method (a special method)."
   ]
  },
  {
   "cell_type": "code",
   "execution_count": 5,
   "metadata": {},
   "outputs": [
    {
     "data": {
      "text/plain": [
       "(4, 4, 2, 5)"
      ]
     },
     "execution_count": 5,
     "metadata": {},
     "output_type": "execute_result"
    }
   ],
   "source": [
    "len([1,2,3,4]), len((1,2,3,4)), len({'a': 45, 'b': 20}), len('hello')"
   ]
  },
  {
   "cell_type": "markdown",
   "metadata": {},
   "source": [
    "Try using len method with an integer and it will fail because int does not have a method **\\_\\_len\\_\\_**."
   ]
  },
  {
   "cell_type": "code",
   "execution_count": 6,
   "metadata": {},
   "outputs": [
    {
     "ename": "TypeError",
     "evalue": "object of type 'int' has no len()",
     "output_type": "error",
     "traceback": [
      "\u001b[0;31m---------------------------------------------------------------------------\u001b[0m",
      "\u001b[0;31mTypeError\u001b[0m                                 Traceback (most recent call last)",
      "Input \u001b[0;32mIn [6]\u001b[0m, in \u001b[0;36m<cell line: 1>\u001b[0;34m()\u001b[0m\n\u001b[0;32m----> 1\u001b[0m \u001b[38;5;28;43mlen\u001b[39;49m\u001b[43m(\u001b[49m\u001b[38;5;241;43m4\u001b[39;49m\u001b[43m)\u001b[49m\n",
      "\u001b[0;31mTypeError\u001b[0m: object of type 'int' has no len()"
     ]
    }
   ],
   "source": [
    "len(4)"
   ]
  },
  {
   "cell_type": "markdown",
   "metadata": {},
   "source": [
    "Consider this add_up function, it will basically concantenate or add up numbers depending on the types of the input data."
   ]
  },
  {
   "cell_type": "code",
   "execution_count": 7,
   "metadata": {},
   "outputs": [],
   "source": [
    "def add_up(x, y):\n",
    "    return x + y"
   ]
  },
  {
   "cell_type": "code",
   "execution_count": 8,
   "metadata": {},
   "outputs": [
    {
     "data": {
      "text/plain": [
       "7"
      ]
     },
     "execution_count": 8,
     "metadata": {},
     "output_type": "execute_result"
    }
   ],
   "source": [
    "add_up(3 ,4)"
   ]
  },
  {
   "cell_type": "code",
   "execution_count": 9,
   "metadata": {},
   "outputs": [
    {
     "data": {
      "text/plain": [
       "'helloworld'"
      ]
     },
     "execution_count": 9,
     "metadata": {},
     "output_type": "execute_result"
    }
   ],
   "source": [
    "add_up('hello', 'world')"
   ]
  },
  {
   "cell_type": "code",
   "execution_count": 10,
   "metadata": {},
   "outputs": [
    {
     "data": {
      "text/plain": [
       "[1, 2, 3, 4, 5, 6]"
      ]
     },
     "execution_count": 10,
     "metadata": {},
     "output_type": "execute_result"
    }
   ],
   "source": [
    "add_up([1,2,3,4], [5,6])"
   ]
  },
  {
   "cell_type": "markdown",
   "metadata": {},
   "source": [
    "However, trying to add up different types of data may cause an error."
   ]
  },
  {
   "cell_type": "code",
   "execution_count": 11,
   "metadata": {},
   "outputs": [
    {
     "ename": "TypeError",
     "evalue": "can only concatenate str (not \"int\") to str",
     "output_type": "error",
     "traceback": [
      "\u001b[0;31m---------------------------------------------------------------------------\u001b[0m",
      "\u001b[0;31mTypeError\u001b[0m                                 Traceback (most recent call last)",
      "Input \u001b[0;32mIn [11]\u001b[0m, in \u001b[0;36m<cell line: 1>\u001b[0;34m()\u001b[0m\n\u001b[0;32m----> 1\u001b[0m \u001b[43madd_up\u001b[49m\u001b[43m(\u001b[49m\u001b[38;5;124;43m'\u001b[39;49m\u001b[38;5;124;43mhello\u001b[39;49m\u001b[38;5;124;43m'\u001b[39;49m\u001b[43m,\u001b[49m\u001b[43m \u001b[49m\u001b[38;5;241;43m3\u001b[39;49m\u001b[43m)\u001b[49m\n",
      "Input \u001b[0;32mIn [7]\u001b[0m, in \u001b[0;36madd_up\u001b[0;34m(x, y)\u001b[0m\n\u001b[1;32m      1\u001b[0m \u001b[38;5;28;01mdef\u001b[39;00m \u001b[38;5;21madd_up\u001b[39m(x, y):\n\u001b[0;32m----> 2\u001b[0m     \u001b[38;5;28;01mreturn\u001b[39;00m \u001b[43mx\u001b[49m\u001b[43m \u001b[49m\u001b[38;5;241;43m+\u001b[39;49m\u001b[43m \u001b[49m\u001b[43my\u001b[49m\n",
      "\u001b[0;31mTypeError\u001b[0m: can only concatenate str (not \"int\") to str"
     ]
    }
   ],
   "source": [
    "add_up('hello', 3)"
   ]
  },
  {
   "cell_type": "markdown",
   "metadata": {},
   "source": [
    "The function add_up works because the plug (+) operator calls **\\_\\_add\\_\\_** method of an object. How the plus operator behaves then depends on how the method is written."
   ]
  },
  {
   "cell_type": "code",
   "execution_count": 12,
   "metadata": {},
   "outputs": [
    {
     "data": {
      "text/plain": [
       "<method-wrapper '__add__' of str object at 0x7f8fc0edc1f0>"
      ]
     },
     "execution_count": 12,
     "metadata": {},
     "output_type": "execute_result"
    }
   ],
   "source": [
    "'hello'.__add__"
   ]
  },
  {
   "cell_type": "markdown",
   "metadata": {},
   "source": [
    "# Let's model the real world"
   ]
  },
  {
   "cell_type": "markdown",
   "metadata": {},
   "source": [
    "## Car Model"
   ]
  },
  {
   "cell_type": "code",
   "execution_count": 13,
   "metadata": {},
   "outputs": [],
   "source": [
    "def drive():\n",
    "    print('Running..')\n",
    "    \n",
    "def stop():\n",
    "    print(\"Pulling up..\")\n",
    "    \n",
    "def go_backward():\n",
    "    print('Going backward..')\n",
    "\n",
    "car = {\n",
    "    'model': 'City',\n",
    "    'color': 'red',\n",
    "    'wheels': 4,\n",
    "    'windshield': 1,\n",
    "    'drive': drive,  # in Python, function can be used like any other data type (first-class citizen)\n",
    "    'stop': stop,\n",
    "    'go_backward': go_backward\n",
    "}"
   ]
  },
  {
   "cell_type": "code",
   "execution_count": 17,
   "metadata": {},
   "outputs": [
    {
     "name": "stdout",
     "output_type": "stream",
     "text": [
      "Pulling up..\n",
      "Running..\n"
     ]
    },
    {
     "data": {
      "text/plain": [
       "'red'"
      ]
     },
     "execution_count": 17,
     "metadata": {},
     "output_type": "execute_result"
    }
   ],
   "source": [
    "car['stop']()\n",
    "car['drive']()\n",
    "car['color']"
   ]
  },
  {
   "cell_type": "code",
   "execution_count": 22,
   "metadata": {},
   "outputs": [],
   "source": [
    "def drive(model):\n",
    "    print(f'{model} is running..')\n",
    "    \n",
    "def stop(model):\n",
    "    print(f'{model} is pulling up..')\n",
    "    \n",
    "def go_backward(model):\n",
    "    print(f'{model} is going backward..')\n",
    "\n",
    "car = {\n",
    "    'model': 'City',\n",
    "    'color': 'red',\n",
    "    'wheels': 4,\n",
    "    'windshield': 1,\n",
    "    'drive': drive,\n",
    "    'stop': stop,\n",
    "    'go_backward': go_backward\n",
    "}"
   ]
  },
  {
   "cell_type": "code",
   "execution_count": 24,
   "metadata": {},
   "outputs": [
    {
     "name": "stdout",
     "output_type": "stream",
     "text": [
      "City is running..\n"
     ]
    }
   ],
   "source": [
    "# Passing a parameter to the method\n",
    "\n",
    "car['drive'](car['model'])"
   ]
  },
  {
   "cell_type": "code",
   "execution_count": 25,
   "metadata": {},
   "outputs": [],
   "source": [
    "class Car:\n",
    "    # define class attribute, which are attributes of the class (blueprint) not an instance\n",
    "    color = 'red'\n",
    "    wheels = 4\n",
    "    windshield = 1\n",
    "    model = 'City'\n",
    "    \n",
    "    def drive(self):\n",
    "        print(f'{self.model} is running..')\n",
    "        \n",
    "    def stop(self):\n",
    "        print(f'{self.model} is pulling up..')\n",
    "        \n",
    "    def go_backward(self):\n",
    "        print(f'{self.model} is going backward..')"
   ]
  },
  {
   "cell_type": "code",
   "execution_count": 26,
   "metadata": {},
   "outputs": [],
   "source": [
    "car1 = Car() ## create an instance of a class"
   ]
  },
  {
   "cell_type": "code",
   "execution_count": 27,
   "metadata": {},
   "outputs": [
    {
     "data": {
      "text/plain": [
       "'City'"
      ]
     },
     "execution_count": 27,
     "metadata": {},
     "output_type": "execute_result"
    }
   ],
   "source": [
    "car1.model  # accessing class attribute"
   ]
  },
  {
   "cell_type": "code",
   "execution_count": 28,
   "metadata": {},
   "outputs": [
    {
     "name": "stdout",
     "output_type": "stream",
     "text": [
      "City is running..\n"
     ]
    }
   ],
   "source": [
    "car1.drive() # accessing class method"
   ]
  },
  {
   "cell_type": "code",
   "execution_count": 30,
   "metadata": {},
   "outputs": [
    {
     "name": "stdout",
     "output_type": "stream",
     "text": [
      "Ford is running..\n"
     ]
    }
   ],
   "source": [
    "car2 = Car()\n",
    "car2.model = 'Ford' # assigning a value to an instance attribute\n",
    "car2.drive()"
   ]
  },
  {
   "cell_type": "code",
   "execution_count": 31,
   "metadata": {},
   "outputs": [
    {
     "data": {
      "text/plain": [
       "'City'"
      ]
     },
     "execution_count": 31,
     "metadata": {},
     "output_type": "execute_result"
    }
   ],
   "source": [
    "car1.model # first look at the instance attribute, if it doesn't exist, look up the class attribute"
   ]
  },
  {
   "cell_type": "code",
   "execution_count": 32,
   "metadata": {},
   "outputs": [
    {
     "data": {
      "text/plain": [
       "'City'"
      ]
     },
     "execution_count": 32,
     "metadata": {},
     "output_type": "execute_result"
    }
   ],
   "source": [
    "Car.model"
   ]
  },
  {
   "cell_type": "code",
   "execution_count": 33,
   "metadata": {},
   "outputs": [],
   "source": [
    "Car.model = 'Tesla'"
   ]
  },
  {
   "cell_type": "code",
   "execution_count": 37,
   "metadata": {},
   "outputs": [
    {
     "data": {
      "text/plain": [
       "'Tesla'"
      ]
     },
     "execution_count": 37,
     "metadata": {},
     "output_type": "execute_result"
    }
   ],
   "source": [
    "car1.model"
   ]
  },
  {
   "cell_type": "code",
   "execution_count": 36,
   "metadata": {},
   "outputs": [
    {
     "data": {
      "text/plain": [
       "'Ford'"
      ]
     },
     "execution_count": 36,
     "metadata": {},
     "output_type": "execute_result"
    }
   ],
   "source": [
    "car2.model"
   ]
  },
  {
   "cell_type": "code",
   "execution_count": 39,
   "metadata": {},
   "outputs": [],
   "source": [
    "class Car:\n",
    "    # define class attributes, which are attributes of the class (blueprint) not an instance\n",
    "    wheels = 4\n",
    "    windshield = 1\n",
    "    \n",
    "    def __init__(self):\n",
    "        # define instance attributes, a self is an instance\n",
    "        \n",
    "        self.color = 'red'\n",
    "        self.model = 'City'\n",
    "    \n",
    "    def drive(self):\n",
    "        print(f'{self.model} is running..')\n",
    "        \n",
    "    def stop(self):\n",
    "        print(f'{self.model} is pulling up..')\n",
    "        \n",
    "    def go_backward(self):\n",
    "        print(f'{self.model} is going backward..')"
   ]
  },
  {
   "cell_type": "code",
   "execution_count": 40,
   "metadata": {},
   "outputs": [
    {
     "ename": "AttributeError",
     "evalue": "type object 'Car' has no attribute 'color'",
     "output_type": "error",
     "traceback": [
      "\u001b[0;31m---------------------------------------------------------------------------\u001b[0m",
      "\u001b[0;31mAttributeError\u001b[0m                            Traceback (most recent call last)",
      "Input \u001b[0;32mIn [40]\u001b[0m, in \u001b[0;36m<cell line: 1>\u001b[0;34m()\u001b[0m\n\u001b[0;32m----> 1\u001b[0m \u001b[43mCar\u001b[49m\u001b[38;5;241;43m.\u001b[39;49m\u001b[43mcolor\u001b[49m\n",
      "\u001b[0;31mAttributeError\u001b[0m: type object 'Car' has no attribute 'color'"
     ]
    }
   ],
   "source": [
    "Car.color"
   ]
  },
  {
   "cell_type": "code",
   "execution_count": 41,
   "metadata": {},
   "outputs": [
    {
     "data": {
      "text/plain": [
       "4"
      ]
     },
     "execution_count": 41,
     "metadata": {},
     "output_type": "execute_result"
    }
   ],
   "source": [
    "Car.wheels"
   ]
  },
  {
   "cell_type": "markdown",
   "metadata": {},
   "source": [
    "## Key concept in object-oriented programming (OOP)"
   ]
  },
  {
   "cell_type": "markdown",
   "metadata": {},
   "source": [
    "* encapsulation"
   ]
  },
  {
   "cell_type": "markdown",
   "metadata": {},
   "source": [
    "To create your own object, you must use a **class** keyword to create a blueprint of an object first."
   ]
  },
  {
   "cell_type": "code",
   "execution_count": null,
   "metadata": {},
   "outputs": [],
   "source": [
    "class AutomaticMachine:\n",
    "    \"\"\"Version 0.1\"\"\"\n",
    "    pass"
   ]
  },
  {
   "cell_type": "markdown",
   "metadata": {},
   "source": [
    "Then you can instantiate (create an instance of) the object using this syntax."
   ]
  },
  {
   "cell_type": "code",
   "execution_count": null,
   "metadata": {},
   "outputs": [],
   "source": [
    "m1 = AutomaticMachine()  # m1 is now an instance of an AutomaticMachine class."
   ]
  },
  {
   "cell_type": "code",
   "execution_count": null,
   "metadata": {},
   "outputs": [],
   "source": [
    "m1.model = 'BT100' # you can add an attribute to an instance using a dot notation."
   ]
  },
  {
   "cell_type": "code",
   "execution_count": null,
   "metadata": {},
   "outputs": [],
   "source": [
    "print(m1.model)"
   ]
  },
  {
   "cell_type": "code",
   "execution_count": null,
   "metadata": {
    "tags": []
   },
   "outputs": [],
   "source": [
    "class AutomaticMachine:\n",
    "    \"\"\"Version 0.1\"\"\"\n",
    "    def run(self):\n",
    "        print('running..')"
   ]
  },
  {
   "cell_type": "code",
   "execution_count": null,
   "metadata": {},
   "outputs": [],
   "source": [
    "m1 = AutomaticMachine()\n",
    "m1.run()"
   ]
  },
  {
   "cell_type": "code",
   "execution_count": null,
   "metadata": {},
   "outputs": [],
   "source": [
    "import time"
   ]
  },
  {
   "cell_type": "code",
   "execution_count": null,
   "metadata": {},
   "outputs": [],
   "source": [
    "class AutomaticMachine:\n",
    "    \"\"\"Version 1.0\"\"\"\n",
    "    ready = False  # default class attribute\n",
    "    test_duration = {'gluc': 3, 'chol': 4} # default class attribute\n",
    "    def analyze(self, test, specimens):  # class method\n",
    "        if self.ready:\n",
    "            print(f'analyzing {test} in {specimens}, this will take approximately {self.test_duration[test]} seconds..')\n",
    "            time.sleep(self.test_duration[test])\n",
    "            print('done..')\n",
    "        else:\n",
    "            print('this machine is not ready yet.')\n",
    "            \n",
    "    def calibrate(self):\n",
    "        print(f'calibrating..')\n",
    "        time.sleep(2)\n",
    "        self.ready = True\n",
    "        print(f'done..')"
   ]
  },
  {
   "cell_type": "code",
   "execution_count": null,
   "metadata": {},
   "outputs": [],
   "source": [
    "abc1000 = AutomaticMachine()  # instantiate an object"
   ]
  },
  {
   "cell_type": "code",
   "execution_count": null,
   "metadata": {},
   "outputs": [],
   "source": [
    "abc1000.ready"
   ]
  },
  {
   "cell_type": "code",
   "execution_count": null,
   "metadata": {},
   "outputs": [],
   "source": [
    "abc1000.calibrate()"
   ]
  },
  {
   "cell_type": "code",
   "execution_count": null,
   "metadata": {},
   "outputs": [],
   "source": [
    "abc1000.ready"
   ]
  },
  {
   "cell_type": "code",
   "execution_count": null,
   "metadata": {},
   "outputs": [],
   "source": [
    "abc1000.analyze('gluc', 'serum')"
   ]
  },
  {
   "cell_type": "code",
   "execution_count": null,
   "metadata": {},
   "outputs": [],
   "source": [
    "abc1000.analyze('chol', 'serum')"
   ]
  },
  {
   "cell_type": "code",
   "execution_count": null,
   "metadata": {},
   "outputs": [],
   "source": [
    "class AutomaticMachine():\n",
    "    \"\"\"Version 2.0\"\"\"\n",
    "    def __init__(self, model, test_duration):   \n",
    "        self.ready = False  # class attribute\n",
    "        self.test_duration = test_duration\n",
    "        self.model = model\n",
    "    def analyze(self, test, specimens):  # class method\n",
    "        if self.ready:\n",
    "            print(f'analyzing {test} in {specimens}, this will take approximately {self.test_duration[test]} seconds..')\n",
    "            time.sleep(self.test_duration[test])\n",
    "            print('done..')\n",
    "        else:\n",
    "            print('this machine is not ready yet.')\n",
    "            \n",
    "    def calibrate(self):\n",
    "        print(f'calibrating..')\n",
    "        time.sleep(2)\n",
    "        self.ready = True\n",
    "        print(f'done..')\n",
    "        \n",
    "    def __str__(self):  # a special method for converting an object to string\n",
    "        return self.model"
   ]
  },
  {
   "cell_type": "code",
   "execution_count": null,
   "metadata": {},
   "outputs": [],
   "source": [
    "m1 = AutomaticMachine('ABC1000', {'gluc': 3, 'chol': 4})"
   ]
  },
  {
   "cell_type": "code",
   "execution_count": null,
   "metadata": {},
   "outputs": [],
   "source": [
    "str(m1), repr(m1)"
   ]
  },
  {
   "cell_type": "markdown",
   "metadata": {},
   "source": [
    "### Class Inheritance"
   ]
  },
  {
   "cell_type": "code",
   "execution_count": null,
   "metadata": {},
   "outputs": [],
   "source": [
    "import random\n",
    "class MALDITOF(AutomaticMachine):\n",
    "    \"Version 1.0\"\n",
    "    def __init__(self, model):  # It is important to call super() to initiate the object\n",
    "        super().__init__(model, {'identification': 2})\n",
    "    def analyze(self, specimens):  # class method\n",
    "        if self.ready:\n",
    "            print(f'identifying a colony from {specimens}, this will take about {self.test_duration[\"identification\"]} seconds..')\n",
    "            time.sleep(self.test_duration['identification'])\n",
    "            print(f'done.. the result is {random.choices([\"E.coli\", \"K.pneumoniae\", \"A.baumanii\"])}')\n",
    "        else:\n",
    "            print('this machine is not ready yet.')\n",
    "\n",
    "        \n",
    "    def __str__(self):  # a special method for converting an object to string\n",
    "        return self.model"
   ]
  },
  {
   "cell_type": "code",
   "execution_count": null,
   "metadata": {},
   "outputs": [],
   "source": [
    "m2 = MALDITOF('BIO200')"
   ]
  },
  {
   "cell_type": "code",
   "execution_count": null,
   "metadata": {},
   "outputs": [],
   "source": [
    "print(m2)"
   ]
  },
  {
   "cell_type": "code",
   "execution_count": null,
   "metadata": {},
   "outputs": [],
   "source": [
    "m2.calibrate()"
   ]
  },
  {
   "cell_type": "code",
   "execution_count": null,
   "metadata": {},
   "outputs": [],
   "source": [
    "m2.analyze('urine')"
   ]
  },
  {
   "cell_type": "code",
   "execution_count": null,
   "metadata": {},
   "outputs": [],
   "source": [
    "m2.analyze('blood')"
   ]
  },
  {
   "cell_type": "code",
   "execution_count": null,
   "metadata": {},
   "outputs": [],
   "source": [
    "class LabRequest():\n",
    "    def __init__(self, ordered_at, by, tests):\n",
    "        self.tests = tests\n",
    "        self.ordered_at = ordered_at\n",
    "        self.received_at = None\n",
    "        self.finished_at = None\n",
    "        self.by = by"
   ]
  },
  {
   "cell_type": "code",
   "execution_count": null,
   "metadata": {},
   "outputs": [],
   "source": [
    "import datetime"
   ]
  },
  {
   "cell_type": "code",
   "execution_count": null,
   "metadata": {},
   "outputs": [],
   "source": [
    "order1 = LabRequest(datetime.datetime.now(), 'Dr', [('gluc', 'serum'), ('chol', 'serum')])"
   ]
  },
  {
   "cell_type": "code",
   "execution_count": null,
   "metadata": {},
   "outputs": [],
   "source": [
    "for test in order1.tests:\n",
    "    if not m1.ready:\n",
    "        m1.calibrate()\n",
    "    m1.analyze(*test)"
   ]
  },
  {
   "cell_type": "code",
   "execution_count": null,
   "metadata": {},
   "outputs": [],
   "source": [
    "test_machine_mappings = {'gluc': m1, 'chol': m1}\n",
    "for test in order1.tests:\n",
    "    machine = test_machine_mappings[test[0]]\n",
    "    if not machine.ready:\n",
    "        machine.calibrate()\n",
    "    machine.analyze(*test)\n"
   ]
  },
  {
   "cell_type": "code",
   "execution_count": null,
   "metadata": {},
   "outputs": [],
   "source": [
    "test_machine_mappings = {'gluc': m1, 'chol': m1, 'identification': m2}\n",
    "order2 = LabRequest(datetime.datetime.now(), 'Dr', [('identification', 'urine')])\n",
    "for test in order2.tests:\n",
    "    machine = test_machine_mappings[test[0]]\n",
    "    print(type(machine))\n",
    "    if not machine.ready:\n",
    "        machine.calibrate()\n",
    "    if isinstance(machine, MALDITOF):\n",
    "        machine.analyze(test[1])\n",
    "    elif isinstance(machine, AutomaticMachine):\n",
    "        machine.analyze(*test)"
   ]
  },
  {
   "cell_type": "markdown",
   "metadata": {},
   "source": [
    "### Namedtuple"
   ]
  },
  {
   "cell_type": "code",
   "execution_count": null,
   "metadata": {},
   "outputs": [],
   "source": [
    "from collections import namedtuple"
   ]
  },
  {
   "cell_type": "code",
   "execution_count": null,
   "metadata": {},
   "outputs": [],
   "source": [
    "Test = namedtuple('Test', ['test', 'specimens'])"
   ]
  },
  {
   "cell_type": "markdown",
   "metadata": {},
   "source": [
    "### Modify the classes to support test namedtuple"
   ]
  },
  {
   "cell_type": "code",
   "execution_count": null,
   "metadata": {},
   "outputs": [],
   "source": [
    "class AutomaticMachine():\n",
    "    \"\"\"Version 3.0\"\"\"\n",
    "    def __init__(self, model, test_duration):   \n",
    "        self.ready = False  # class attribute\n",
    "        self.test_duration = test_duration\n",
    "        self.model = model\n",
    "    def analyze(self, test):  # class method\n",
    "        if self.ready:\n",
    "            print(f'analyzing {test.test} in {test.specimens}, this will take approximately {self.test_duration[test.test]} seconds..')\n",
    "            time.sleep(self.test_duration[test.test])\n",
    "            print('done..')\n",
    "        else:\n",
    "            print('this machine is not ready yet.')\n",
    "            \n",
    "    def calibrate(self):\n",
    "        print(f'calibrating..')\n",
    "        time.sleep(2)\n",
    "        self.ready = True\n",
    "        print(f'done..')\n",
    "        \n",
    "    def __str__(self):  # a special method for converting an object to string\n",
    "        return self.model"
   ]
  },
  {
   "cell_type": "code",
   "execution_count": null,
   "metadata": {},
   "outputs": [],
   "source": [
    "class MALDITOF(AutomaticMachine):\n",
    "    \"Version 2.0\"\n",
    "    def __init__(self, model):  # It is important to call super() to initiate the object\n",
    "        super().__init__(model, {'identification': 2})\n",
    "    def analyze(self, test):  # class method\n",
    "        if self.ready:\n",
    "            print(f'identifying a colony from {test.specimens}, this will take about {self.test_duration[\"identification\"]} seconds..')\n",
    "            time.sleep(self.test_duration['identification'])\n",
    "            print(f'done.. the result is {random.choices([\"E.coli\", \"K.pneumoniae\", \"A.baumanii\"])}')\n",
    "        else:\n",
    "            print('this machine is not ready yet.')\n",
    "\n",
    "        \n",
    "    def __str__(self):  # a special method for converting an object to string\n",
    "        return self.model"
   ]
  },
  {
   "cell_type": "code",
   "execution_count": null,
   "metadata": {},
   "outputs": [],
   "source": [
    "mm = MALDITOF('TEST00')"
   ]
  },
  {
   "cell_type": "code",
   "execution_count": null,
   "metadata": {},
   "outputs": [],
   "source": [
    "mm.calibrate()"
   ]
  },
  {
   "cell_type": "code",
   "execution_count": null,
   "metadata": {},
   "outputs": [],
   "source": [
    "glucose = Test('gluc', 'serum')\n",
    "chol = Test('chol', 'serum')\n",
    "mm.analyze(Test('identification', 'stool'))"
   ]
  },
  {
   "cell_type": "code",
   "execution_count": null,
   "metadata": {},
   "outputs": [],
   "source": [
    "mm.analyze(chol)"
   ]
  },
  {
   "cell_type": "code",
   "execution_count": null,
   "metadata": {},
   "outputs": [],
   "source": [
    "m1 = AutomaticMachine('ABC1000', {'gluc': 2, 'chol': 3})\n",
    "m2 = MALDITOF('BIO100')"
   ]
  },
  {
   "cell_type": "markdown",
   "metadata": {},
   "source": [
    "Now our code can work with any type of machine without type checking."
   ]
  },
  {
   "cell_type": "code",
   "execution_count": null,
   "metadata": {},
   "outputs": [],
   "source": [
    "test_machine_mappings = {'gluc': m1, 'chol': m1, 'identification': m2}\n",
    "order2 = LabRequest(datetime.datetime.now(), 'Dr', [Test('identification', 'urine'), Test('gluc', 'urine')])\n",
    "for test in order2.tests:\n",
    "    machine = test_machine_mappings[test.test]\n",
    "    if not machine.ready:\n",
    "        machine.calibrate()\n",
    "    machine.analyze(test)"
   ]
  },
  {
   "cell_type": "code",
   "execution_count": null,
   "metadata": {},
   "outputs": [],
   "source": [
    "class AutomaticMachine():\n",
    "    \"\"\"Version 4.0\"\"\"\n",
    "    def __init__(self, model, test_duration):   \n",
    "        self.ready = False  # class attribute\n",
    "        self.test_duration = test_duration\n",
    "        self.model = model\n",
    "        self.tests = 0\n",
    "    def analyze(self, test):  # class method\n",
    "        if self.ready:\n",
    "            print(f'analyzing {test.test} in {test.specimens}, this will take approximately {self.test_duration[test.test]} seconds..')\n",
    "            time.sleep(self.test_duration[test.test])\n",
    "            print('done..')\n",
    "            self.tests += 1. # increment the total number of tests\n",
    "            self.check_calibration()\n",
    "        else:\n",
    "            print('this machine is not ready yet.')\n",
    "            \n",
    "    def calibrate(self):\n",
    "        print(f'calibrating..')\n",
    "        time.sleep(2)\n",
    "        self.ready = True\n",
    "        self.tests = 0. # reset the number of tests\n",
    "        print(f'done..')\n",
    "        \n",
    "    def check_calibration(self):\n",
    "        if self.tests > 5:\n",
    "            self.ready = False\n",
    "        \n",
    "    def __str__(self):  # a special method for converting an object to string\n",
    "        return self.model"
   ]
  },
  {
   "cell_type": "code",
   "execution_count": null,
   "metadata": {},
   "outputs": [],
   "source": [
    "m1 = AutomaticMachine('ABC1000', {'gluc': 2, 'chol': 3})\n",
    "test_machine_mappings = {'gluc': m1, 'chol': m1, 'identification': m2}\n",
    "\n",
    "order2 = LabRequest(datetime.datetime.now(), 'Dr', [Test('gluc', 'urine')]*6)\n",
    "for test in order2.tests:\n",
    "    machine = test_machine_mappings[test.test]\n",
    "    if not machine.ready:\n",
    "        machine.calibrate()\n",
    "    machine.analyze(test)\n",
    "    print(machine.tests)"
   ]
  },
  {
   "cell_type": "code",
   "execution_count": null,
   "metadata": {},
   "outputs": [],
   "source": [
    "class MALDITOF(AutomaticMachine):\n",
    "    \"\"\"Version 3.0\"\"\"\n",
    "    def __init__(self, model):  # It is important to call super() to initiate the object\n",
    "        super().__init__(model, {'identification': 2})\n",
    "    def analyze(self, test):  # class method\n",
    "        if self.ready:\n",
    "            print(f'identifying a colony from {test.specimens}, this will take about {self.test_duration[\"identification\"]} seconds..')\n",
    "            time.sleep(self.test_duration['identification'])\n",
    "            print(f'done.. the result is {random.choices([\"E.coli\", \"K.pneumoniae\", \"A.baumanii\"])}')\n",
    "            self.tests += 1\n",
    "            self.check_calibration()\n",
    "        else:\n",
    "            print('this machine is not ready yet.')\n",
    "            \n",
    "    def calibrate(self):\n",
    "        print(f'self cleaning..')\n",
    "        time.sleep(3)\n",
    "        super().calibrate()\n",
    "\n",
    "    def __str__(self):  # a special method for converting an object to string\n",
    "        return self.model"
   ]
  },
  {
   "cell_type": "code",
   "execution_count": null,
   "metadata": {},
   "outputs": [],
   "source": [
    "m1 = AutomaticMachine('ABC1000', {'gluc': 2, 'chol': 3})\n",
    "m2 = MALDITOF('BIO100')\n",
    "test_machine_mappings = {'gluc': m1, 'chol': m1, 'identification': m2}\n",
    "\n",
    "order2 = LabRequest(datetime.datetime.now(), 'Dr', [Test('identification', 'urine')]*6)\n",
    "for test in order2.tests:\n",
    "    machine = test_machine_mappings[test.test]\n",
    "    if not machine.ready:\n",
    "        machine.calibrate()\n",
    "    machine.analyze(test)\n",
    "order2.finished_at = datetime.datetime.now()"
   ]
  },
  {
   "cell_type": "markdown",
   "metadata": {},
   "source": [
    "Abstract the code a bit more."
   ]
  },
  {
   "cell_type": "code",
   "execution_count": null,
   "metadata": {},
   "outputs": [],
   "source": [
    "def perform_analysis(order):\n",
    "    order.received_at = datetime.datetime.now()\n",
    "    print(f'received at {order.received_at}')\n",
    "    for test in order.tests:\n",
    "        machine = test_machine_mappings[test.test]\n",
    "        if not machine.ready:\n",
    "            machine.calibrate()\n",
    "        machine.analyze(test)\n",
    "        order.finished_at = datetime.datetime.now()"
   ]
  },
  {
   "cell_type": "code",
   "execution_count": null,
   "metadata": {},
   "outputs": [],
   "source": [
    "m1 = AutomaticMachine('ABC1000', {'gluc': 2, 'chol': 3})\n",
    "m2 = MALDITOF('BIO100')\n",
    "tests = []\n",
    "test_machine_mappings = {'gluc': m1, 'chol': m1, 'identification': m2}\n",
    "\n",
    "print('Welcome to MT Smart Lab.')\n",
    "\n",
    "while True:\n",
    "    test = input('Enter a test code: ')\n",
    "    specimens = input('Enter a specimens: ')\n",
    "    if test and specimens:\n",
    "        tests.append(Test(test, specimens))\n",
    "    else:\n",
    "        break\n",
    "if tests:\n",
    "    name = input('Enter your name: ')\n",
    "    new_order = LabRequest(datetime.datetime.now(), name, tests)\n",
    "    perform_analysis(new_order)\n",
    "    print(f'finished at {new_order.finished_at}')\n",
    "    "
   ]
  },
  {
   "cell_type": "markdown",
   "metadata": {},
   "source": [
    "## Dataclass"
   ]
  },
  {
   "cell_type": "markdown",
   "metadata": {},
   "source": [
    "We can create data class from dataclass decorator. Dataclass comes with many useful features than normal classes."
   ]
  },
  {
   "cell_type": "code",
   "execution_count": null,
   "metadata": {},
   "outputs": [],
   "source": [
    "from dataclasses import dataclass"
   ]
  },
  {
   "cell_type": "code",
   "execution_count": null,
   "metadata": {},
   "outputs": [],
   "source": [
    "@dataclass\n",
    "class Position:\n",
    "    name: str\n",
    "    lat: float\n",
    "    lon: float # type hint"
   ]
  },
  {
   "cell_type": "code",
   "execution_count": null,
   "metadata": {},
   "outputs": [],
   "source": [
    "pos = Position('Oslo', 10.8, 59.9)"
   ]
  },
  {
   "cell_type": "code",
   "execution_count": null,
   "metadata": {},
   "outputs": [],
   "source": [
    "pos # dataclass comes with built-in __repr__ method"
   ]
  },
  {
   "cell_type": "markdown",
   "metadata": {},
   "source": [
    "We can access value in the data class using a dot notation."
   ]
  },
  {
   "cell_type": "code",
   "execution_count": null,
   "metadata": {},
   "outputs": [],
   "source": [
    "pos.name, pos.lat, pos.lon"
   ]
  },
  {
   "cell_type": "markdown",
   "metadata": {},
   "source": [
    "Dataclass can be created using make_dataclass function similar to how the namedtuple is created."
   ]
  },
  {
   "cell_type": "code",
   "execution_count": null,
   "metadata": {},
   "outputs": [],
   "source": [
    "from dataclasses import make_dataclass\n",
    "\n",
    "Position = make_dataclass('Position', ['name', 'lat', 'lon'])"
   ]
  },
  {
   "cell_type": "code",
   "execution_count": null,
   "metadata": {},
   "outputs": [],
   "source": [
    "TestDC = make_dataclass('Test', ['test', 'specimens'])"
   ]
  },
  {
   "cell_type": "code",
   "execution_count": null,
   "metadata": {},
   "outputs": [],
   "source": [
    "TestDC('gluc', 'urine')"
   ]
  },
  {
   "cell_type": "markdown",
   "metadata": {},
   "source": [
    "We can specify a default value."
   ]
  },
  {
   "cell_type": "code",
   "execution_count": null,
   "metadata": {},
   "outputs": [],
   "source": [
    "@dataclass\n",
    "class Position:\n",
    "    name: str\n",
    "    lon: float = 0.0\n",
    "    lat: float = 0.0"
   ]
  },
  {
   "cell_type": "code",
   "execution_count": null,
   "metadata": {},
   "outputs": [],
   "source": [
    "Position('Null Island')"
   ]
  },
  {
   "cell_type": "code",
   "execution_count": null,
   "metadata": {},
   "outputs": [],
   "source": [
    "Position('Greenwich', lat=51.8)"
   ]
  },
  {
   "cell_type": "code",
   "execution_count": null,
   "metadata": {},
   "outputs": [],
   "source": [
    "Position('Vancouver', -123.1, 49.3)"
   ]
  },
  {
   "cell_type": "markdown",
   "metadata": {},
   "source": [
    "We can specify that each value field can be of any data type using **Any**."
   ]
  },
  {
   "cell_type": "code",
   "execution_count": null,
   "metadata": {},
   "outputs": [],
   "source": [
    "from typing import Any, List\n",
    "\n",
    "@dataclass\n",
    "class Position:\n",
    "    name: Any\n",
    "    lon: Any = 0.0\n",
    "    lat: Any = 0.0"
   ]
  },
  {
   "cell_type": "code",
   "execution_count": null,
   "metadata": {},
   "outputs": [],
   "source": [
    "@dataclass\n",
    "class PlayingCard:\n",
    "    rank: str\n",
    "    suit: str\n",
    "\n",
    "@dataclass\n",
    "class Deck:\n",
    "    cards: List[PlayingCard]"
   ]
  },
  {
   "cell_type": "code",
   "execution_count": null,
   "metadata": {},
   "outputs": [],
   "source": [
    "queen_of_hearts = PlayingCard('Q', 'Hearts')\n",
    "ace_of_spades = PlayingCard('A', 'Spades')\n",
    "two_cards = Deck([queen_of_hearts, ace_of_spades])"
   ]
  },
  {
   "cell_type": "code",
   "execution_count": null,
   "metadata": {},
   "outputs": [],
   "source": [
    "two_cards"
   ]
  },
  {
   "cell_type": "code",
   "execution_count": null,
   "metadata": {},
   "outputs": [],
   "source": [
    "RANKS = '2 3 4 5 6 7 8 9 10 J Q K A'.split()\n",
    "SUITS = '♣ ♢ ♡ ♠'.split()\n",
    "\n",
    "def make_french_deck():\n",
    "    return [PlayingCard(r, s) for s in SUITS for r in RANKS]"
   ]
  },
  {
   "cell_type": "code",
   "execution_count": null,
   "metadata": {
    "tags": []
   },
   "outputs": [],
   "source": [
    "make_french_deck()"
   ]
  },
  {
   "cell_type": "markdown",
   "metadata": {},
   "source": [
    "Don't do this. Dataclass does not allow setting a default value from mutable data.\n",
    "\n",
    "Instead use the **field** function with a **default_factory**."
   ]
  },
  {
   "cell_type": "code",
   "execution_count": null,
   "metadata": {},
   "outputs": [],
   "source": [
    "from dataclasses import field\n",
    "\n",
    "@dataclass\n",
    "class Deck:\n",
    "    cards: List[PlayingCard] = field(default_factory=make_french_deck)"
   ]
  },
  {
   "cell_type": "code",
   "execution_count": null,
   "metadata": {
    "tags": []
   },
   "outputs": [],
   "source": [
    "Deck()"
   ]
  },
  {
   "cell_type": "markdown",
   "metadata": {},
   "source": [
    "### LabRequest dataclass with representation"
   ]
  },
  {
   "cell_type": "code",
   "execution_count": null,
   "metadata": {},
   "outputs": [],
   "source": [
    "@dataclass\n",
    "class LabRequest:\n",
    "    by: str\n",
    "    ordered_at: Any\n",
    "    tests: List[Test]\n",
    "    received_at: Any = None  # optional\n",
    "    finished_at: Any = None  # optional\n",
    "    def __str__(self):\n",
    "        return f'Lab Request: {self.ordered_at} by {self.by}'"
   ]
  },
  {
   "cell_type": "code",
   "execution_count": null,
   "metadata": {},
   "outputs": [],
   "source": [
    "right_now = datetime.datetime.now()\n",
    "\n",
    "order = LabRequest('Dr', right_now, [Test('gluc', 'urine')])\n",
    "order2 = LabRequest('Dr', right_now, [Test('gluc', 'urine')])"
   ]
  },
  {
   "cell_type": "code",
   "execution_count": null,
   "metadata": {},
   "outputs": [],
   "source": [
    "order == order2"
   ]
  },
  {
   "cell_type": "code",
   "execution_count": null,
   "metadata": {},
   "outputs": [],
   "source": [
    "@dataclass\n",
    "class LabRequest:\n",
    "    by: str\n",
    "    ordered_at: Any\n",
    "    tests: List[Test]\n",
    "    received_at: Any = None  # optional\n",
    "    finished_at: Any = None  # optional\n",
    "    def __str__(self):\n",
    "        return f'Lab Request: {self.ordered_at} by {self.by}'\n",
    "    \n",
    "    def elapsed_time(self):\n",
    "        if self.received_at and self.finished_at:\n",
    "            delta = self.finished_at - self.received_at\n",
    "            return delta\n",
    "        "
   ]
  },
  {
   "cell_type": "code",
   "execution_count": null,
   "metadata": {},
   "outputs": [],
   "source": [
    "from datetime import timedelta\n",
    "\n",
    "right_now = datetime.datetime.now() - timedelta(hours=3)\n",
    "\n",
    "order = LabRequest('Dr', right_now, [Test('gluc', 'urine')])\n",
    "order.received_at = right_now + timedelta(hours=1)\n",
    "order.finished_at = order.received_at + timedelta(hours=1)\n",
    "print(order.elapsed_time())"
   ]
  },
  {
   "cell_type": "markdown",
   "metadata": {},
   "source": [
    "# Error Handling"
   ]
  },
  {
   "cell_type": "code",
   "execution_count": null,
   "metadata": {},
   "outputs": [],
   "source": [
    "m1 = AutomaticMachine('ABC1000', {'gluc': 2, 'chol': 3})\n",
    "test_machine_mappings = {'gluc': m1, 'chol': m1, 'identification': m2}\n",
    "m1.calibrate()\n",
    "\n",
    "m1.analyze(Test('HbA1c', 'blood'))"
   ]
  },
  {
   "cell_type": "code",
   "execution_count": null,
   "metadata": {},
   "outputs": [],
   "source": [
    "m1 = AutomaticMachine('ABC1000', {'gluc': 2, 'chol': 3})\n",
    "test_machine_mappings = {'gluc': m1, 'chol': m1, 'identification': m2}\n",
    "m1.calibrate()\n",
    "\n",
    "try:\n",
    "    m1.analyze(Test('HbA1c', 'blood'))\n",
    "except:\n",
    "    print('Error happened.')"
   ]
  },
  {
   "cell_type": "code",
   "execution_count": null,
   "metadata": {},
   "outputs": [],
   "source": [
    "m1 = AutomaticMachine('ABC1000', {'gluc': 2, 'chol': 3})\n",
    "test_machine_mappings = {'gluc': m1, 'chol': m1, 'identification': m2}\n",
    "m1.calibrate()\n",
    "\n",
    "try:\n",
    "    m1.analyze(Test('HbA1c', 'blood'))\n",
    "except KeyError as e:\n",
    "    print('Error happened.')\n",
    "    raise e # raise keyword is used to raise an exception"
   ]
  },
  {
   "cell_type": "markdown",
   "metadata": {},
   "source": [
    "**Exception** class is a super class of all exceptions. Therefore, we can use it to catch all errors."
   ]
  },
  {
   "cell_type": "code",
   "execution_count": null,
   "metadata": {},
   "outputs": [],
   "source": [
    "m1 = AutomaticMachine('ABC1000', {'gluc': 2, 'chol': 3})\n",
    "test_machine_mappings = {'gluc': m1, 'chol': m1, 'identification': m2}\n",
    "m1.calibrate()\n",
    "\n",
    "try:\n",
    "    m1.analyze(Test('HbA1c', 'blood'))\n",
    "except Exception as e:\n",
    "    print('Error happened.')\n",
    "    raise e"
   ]
  },
  {
   "cell_type": "code",
   "execution_count": null,
   "metadata": {},
   "outputs": [],
   "source": [
    "m1 = AutomaticMachine('ABC1000', {'gluc': 2, 'chol': 3})\n",
    "test_machine_mappings = {'gluc': m1, 'chol': m1, 'identification': m2}\n",
    "m1.calibrate()\n",
    "\n",
    "try:\n",
    "    m1.analyze(Test('HbA1c', 'blood'))\n",
    "except KeyError:\n",
    "    print('The test is not supported yet.')\n",
    "except Exception as e:\n",
    "    print('Error happened.')"
   ]
  },
  {
   "cell_type": "code",
   "execution_count": null,
   "metadata": {},
   "outputs": [],
   "source": [
    "m1 = AutomaticMachine('ABC1000', {'gluc': 2, 'chol': 3})\n",
    "test_machine_mappings = {'gluc': m1, 'chol': m1, 'identification': m2}\n",
    "m1.calibrate()\n",
    "\n",
    "try:\n",
    "    raise ValueError # we intentionally inject an error to the program\n",
    "    m1.analyze(Test('HbA1c', 'blood'))\n",
    "except KeyError:\n",
    "    print('The test is not supported yet.')\n",
    "except Exception as e:\n",
    "    print('Error happened.')"
   ]
  },
  {
   "cell_type": "code",
   "execution_count": null,
   "metadata": {},
   "outputs": [],
   "source": [
    "m1 = AutomaticMachine('ABC1000', {'gluc': 2, 'chol': 3})\n",
    "test_machine_mappings = {'gluc': m1, 'chol': m1, 'identification': m2}\n",
    "m1.calibrate()\n",
    "\n",
    "try:\n",
    "    m1.analyze(Test('HbA1c', 'blood'))\n",
    "except KeyError:\n",
    "    print('The test is not supported yet.')\n",
    "except Exception as e:\n",
    "    print('Error happened.')\n",
    "else:\n",
    "    print('Done.')"
   ]
  },
  {
   "cell_type": "code",
   "execution_count": null,
   "metadata": {},
   "outputs": [],
   "source": [
    "class CalibrationError(Exception):\n",
    "    pass"
   ]
  },
  {
   "cell_type": "code",
   "execution_count": null,
   "metadata": {},
   "outputs": [],
   "source": [
    "class AutomaticMachine():\n",
    "    \"\"\"Version 6.0\"\"\"\n",
    "    def __init__(self, model, test_duration):   \n",
    "        self.ready = False  # class attribute\n",
    "        self.test_duration = test_duration\n",
    "        self.model = model\n",
    "        self.tests = 0\n",
    "    def analyze(self, test):  # class method\n",
    "        if not self.ready:\n",
    "            try:\n",
    "                self.calibrate()\n",
    "            except:\n",
    "                raise\n",
    "            \n",
    "        duration = self.test_duration.get(test.test)\n",
    "        if duration:\n",
    "            print(f'analyzing {test.test} in {test.specimens}, this will take approximately {self.test_duration[test.test]} seconds..')\n",
    "            time.sleep(self.test_duration[test.test])\n",
    "            print('done..')\n",
    "            self.tests += 1. # increment the total number of tests\n",
    "            self.check_calibration()\n",
    "        else:\n",
    "            print(f'{test.test} is not supported.')\n",
    "        \n",
    "    def calibrate(self):\n",
    "        print(f'calibrating..')\n",
    "        if random.randint(0,10) % 2 == 0: # sometimes the calibration fails\n",
    "            raise CalibrationError('Something when wrong.')\n",
    "        time.sleep(2)\n",
    "        self.ready = True\n",
    "        self.tests = 0. # reset the number of tests\n",
    "        print(f'done..')\n",
    "        \n",
    "    def check_calibration(self):\n",
    "        if self.tests > 5:\n",
    "            self.ready = False\n",
    "        \n",
    "    def __str__(self):  # a special method for converting an object to string\n",
    "        return self.model"
   ]
  },
  {
   "cell_type": "code",
   "execution_count": null,
   "metadata": {},
   "outputs": [],
   "source": [
    "m3 = AutomaticMachine('Fail001', {'gluc': 1})"
   ]
  },
  {
   "cell_type": "code",
   "execution_count": null,
   "metadata": {},
   "outputs": [],
   "source": [
    "m3.analyze(Test('gluc', 'blood'))"
   ]
  },
  {
   "cell_type": "code",
   "execution_count": null,
   "metadata": {},
   "outputs": [],
   "source": [
    "m3.analyze(Test('HbA1c', 'blood'))"
   ]
  },
  {
   "cell_type": "code",
   "execution_count": null,
   "metadata": {},
   "outputs": [],
   "source": []
  }
 ],
 "metadata": {
  "kernelspec": {
   "display_name": "Python 3 (ipykernel)",
   "language": "python",
   "name": "python3"
  },
  "language_info": {
   "codemirror_mode": {
    "name": "ipython",
    "version": 3
   },
   "file_extension": ".py",
   "mimetype": "text/x-python",
   "name": "python",
   "nbconvert_exporter": "python",
   "pygments_lexer": "ipython3",
   "version": "3.9.12"
  }
 },
 "nbformat": 4,
 "nbformat_minor": 4
}
