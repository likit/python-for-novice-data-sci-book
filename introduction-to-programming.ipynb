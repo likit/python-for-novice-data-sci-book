{
 "cells": [
  {
   "cell_type": "markdown",
   "id": "8c4caf98-e745-4cef-a022-e7c2badad7c4",
   "metadata": {},
   "source": [
    "# Introduction to Programming"
   ]
  },
  {
   "cell_type": "markdown",
   "id": "28b65e0f-fd86-4928-8b68-a4efcdba3da4",
   "metadata": {},
   "source": [
    "A programming is a set of precise instructions that a computer can follow to perform a set of operations.\n",
    "\n",
    "Although a computer can only perform basic operations, a programmer can design a method or an algorithm that direct a computer to perform consecutive set of operations that can complete a complex task.\n",
    "\n",
    "A basic program usually consists of an input data, data processing operations and an output data."
   ]
  },
  {
   "cell_type": "markdown",
   "id": "fc351f34-bc6c-4d30-ae51-eaa451bda070",
   "metadata": {},
   "source": [
    "### What to learn"
   ]
  },
  {
   "cell_type": "markdown",
   "id": "9d0920f4-2dab-4d97-af75-50cdb83c76ca",
   "metadata": {},
   "source": [
    "1. Basic syntax\n",
    "2. Basic data types -> primitive and compound data types\n",
    "3. Flow control -> loop, logical condition\n",
    "4. Advanced data types"
   ]
  },
  {
   "cell_type": "markdown",
   "id": "c9d48d4d-3525-47f6-8b27-08b1901944e4",
   "metadata": {},
   "source": [
    "### Your first Python program"
   ]
  },
  {
   "cell_type": "code",
   "execution_count": 1,
   "id": "60acfe23-e42b-4b70-ad59-e7efa1b2f24f",
   "metadata": {},
   "outputs": [
    {
     "name": "stdout",
     "output_type": "stream",
     "text": [
      "Hello, world\n",
      "Welcome to MUMT coders\n"
     ]
    }
   ],
   "source": [
    "print('Hello, world')\n",
    "print('Welcome to MUMT coders')"
   ]
  },
  {
   "cell_type": "code",
   "execution_count": 2,
   "id": "477b577e-2ffd-49ec-983b-b70f40e8b931",
   "metadata": {},
   "outputs": [
    {
     "data": {
      "text/plain": [
       "2.4"
      ]
     },
     "execution_count": 2,
     "metadata": {},
     "output_type": "execute_result"
    }
   ],
   "source": [
    "3 * 4 / 5"
   ]
  },
  {
   "cell_type": "code",
   "execution_count": 3,
   "id": "544ede6c-e83d-4e45-b757-04010b62c937",
   "metadata": {},
   "outputs": [
    {
     "data": {
      "text/plain": [
       "100"
      ]
     },
     "execution_count": 3,
     "metadata": {},
     "output_type": "execute_result"
    }
   ],
   "source": [
    "500 // 5"
   ]
  },
  {
   "cell_type": "code",
   "execution_count": 4,
   "id": "8ea6239d-796e-433a-b6b8-1734c2516c69",
   "metadata": {},
   "outputs": [
    {
     "data": {
      "text/plain": [
       "100.0"
      ]
     },
     "execution_count": 4,
     "metadata": {},
     "output_type": "execute_result"
    }
   ],
   "source": [
    "500 / 5"
   ]
  },
  {
   "cell_type": "code",
   "execution_count": 5,
   "id": "a1759840-9941-481e-8850-1b2ac3222cff",
   "metadata": {},
   "outputs": [
    {
     "ename": "ZeroDivisionError",
     "evalue": "division by zero",
     "output_type": "error",
     "traceback": [
      "\u001b[1;31m---------------------------------------------------------------------------\u001b[0m",
      "\u001b[1;31mZeroDivisionError\u001b[0m                         Traceback (most recent call last)",
      "\u001b[1;32m~\\AppData\\Local\\Temp/ipykernel_14072/2404335903.py\u001b[0m in \u001b[0;36m<module>\u001b[1;34m\u001b[0m\n\u001b[1;32m----> 1\u001b[1;33m \u001b[1;36m500\u001b[0m \u001b[1;33m/\u001b[0m \u001b[1;36m0\u001b[0m\u001b[1;33m\u001b[0m\u001b[1;33m\u001b[0m\u001b[0m\n\u001b[0m",
      "\u001b[1;31mZeroDivisionError\u001b[0m: division by zero"
     ]
    }
   ],
   "source": [
    "500 / 0"
   ]
  },
  {
   "cell_type": "code",
   "execution_count": 6,
   "id": "92076eab-3165-487d-ad52-0a01b881cc30",
   "metadata": {},
   "outputs": [
    {
     "ename": "NameError",
     "evalue": "name 'mumtcoders' is not defined",
     "output_type": "error",
     "traceback": [
      "\u001b[1;31m---------------------------------------------------------------------------\u001b[0m",
      "\u001b[1;31mNameError\u001b[0m                                 Traceback (most recent call last)",
      "\u001b[1;32m~\\AppData\\Local\\Temp/ipykernel_14072/2294828552.py\u001b[0m in \u001b[0;36m<module>\u001b[1;34m\u001b[0m\n\u001b[1;32m----> 1\u001b[1;33m \u001b[0mmumtcoders\u001b[0m\u001b[1;33m\u001b[0m\u001b[1;33m\u001b[0m\u001b[0m\n\u001b[0m",
      "\u001b[1;31mNameError\u001b[0m: name 'mumtcoders' is not defined"
     ]
    }
   ],
   "source": [
    "mumtcoders"
   ]
  },
  {
   "cell_type": "code",
   "execution_count": 7,
   "id": "3cffb633-d458-4f87-a75b-8c10de90676e",
   "metadata": {},
   "outputs": [],
   "source": [
    "# this is a comment, it gets ignored by the interpreter."
   ]
  },
  {
   "cell_type": "markdown",
   "id": "a28d0b85-dffe-4307-8e62-62ca7a21c922",
   "metadata": {},
   "source": [
    "Python uses indentation to specify a code block (more on this later). The indentation can be space(s) or tabs. However, it is recommended to use four spaces."
   ]
  },
  {
   "cell_type": "code",
   "execution_count": 12,
   "id": "3b926f91-72e8-4c26-a258-b973d8d56231",
   "metadata": {},
   "outputs": [
    {
     "ename": "IndentationError",
     "evalue": "unexpected indent (Temp/ipykernel_14072/2907356413.py, line 2)",
     "output_type": "error",
     "traceback": [
      "\u001b[1;36m  File \u001b[1;32m\"C:\\Users\\User\\AppData\\Local\\Temp/ipykernel_14072/2907356413.py\"\u001b[1;36m, line \u001b[1;32m2\u001b[0m\n\u001b[1;33m    print('World')  # indented block not expected here.\u001b[0m\n\u001b[1;37m    ^\u001b[0m\n\u001b[1;31mIndentationError\u001b[0m\u001b[1;31m:\u001b[0m unexpected indent\n"
     ]
    }
   ],
   "source": [
    "print('Hello')\n",
    "    print('World')  # indented block not expected here."
   ]
  },
  {
   "cell_type": "code",
   "execution_count": 15,
   "id": "cdca4e92-40c4-4b73-b258-497e7e9c1a68",
   "metadata": {},
   "outputs": [
    {
     "name": "stdout",
     "output_type": "stream",
     "text": [
      "This is true\n"
     ]
    }
   ],
   "source": [
    "# for if-else block, for example, indentation is required to specify the if and else block.\n",
    "\n",
    "if True:\n",
    "    print('This is true')  # this is an if block, only executed if the condition is true\n",
    "else:\n",
    "    print('This is false.')  # this is an else block, executed only if the condition is false"
   ]
  },
  {
   "cell_type": "code",
   "execution_count": 18,
   "id": "a43e2725-99b6-4cca-ad99-23afd4e615d0",
   "metadata": {},
   "outputs": [
    {
     "name": "stdout",
     "output_type": "stream",
     "text": [
      "Hello, world for 0 times\n",
      "Hello, world for 1 times\n",
      "Hello, world for 2 times\n",
      "Hello, world for 3 times\n",
      "Hello, world for 4 times\n",
      "This is the end\n"
     ]
    }
   ],
   "source": [
    "# for a loop, indentation is also required\n",
    "n = 0\n",
    "while n < 5:  # the while block will be repeated as long as the condition is met\n",
    "    print(f'Hello, world for {n} times')\n",
    "    n += 1\n",
    "print('This is the end')"
   ]
  },
  {
   "cell_type": "code",
   "execution_count": 20,
   "id": "baeee2e0-68bd-435f-a274-a04e607e8b53",
   "metadata": {},
   "outputs": [
    {
     "name": "stdout",
     "output_type": "stream",
     "text": [
      "Hello, world for 0 times\n",
      "Hello, world for 2 times\n",
      "Hello, world for 4 times\n",
      "This is the end\n"
     ]
    }
   ],
   "source": [
    "# indentation can be nested to specify nested blocks\n",
    "n = 0\n",
    "while n < 5:  # the while block will be repeated as long as the condition is met\n",
    "    if n % 2 == 0:  # if n is even\n",
    "        print(f'Hello, world for {n} times')  # the print function will run only when n is even\n",
    "    n += 1\n",
    "print('This is the end')"
   ]
  },
  {
   "cell_type": "markdown",
   "id": "ddb39ee1-96c2-4b15-96ba-80d6e5404385",
   "metadata": {},
   "source": [
    "## Python is case-sensitive"
   ]
  },
  {
   "cell_type": "markdown",
   "id": "0a0d047b-4853-45c7-b00b-acecc3358506",
   "metadata": {},
   "source": [
    "Be aware that Python is case-sensitive meaning that a_list_of_items is not equal to A_List_of_Items."
   ]
  },
  {
   "cell_type": "code",
   "execution_count": 5,
   "id": "c9d25a5a-673a-4305-86c3-90a4d65e461a",
   "metadata": {},
   "outputs": [
    {
     "ename": "NameError",
     "evalue": "name 'A_List_of_Items' is not defined",
     "output_type": "error",
     "traceback": [
      "\u001b[0;31m---------------------------------------------------------------------------\u001b[0m",
      "\u001b[0;31mNameError\u001b[0m                                 Traceback (most recent call last)",
      "Input \u001b[0;32mIn [5]\u001b[0m, in \u001b[0;36m<cell line: 3>\u001b[0;34m()\u001b[0m\n\u001b[1;32m      1\u001b[0m a_list_of_items \u001b[38;5;241m=\u001b[39m [\u001b[38;5;124m'\u001b[39m\u001b[38;5;124mcat\u001b[39m\u001b[38;5;124m'\u001b[39m, \u001b[38;5;124m'\u001b[39m\u001b[38;5;124mdog\u001b[39m\u001b[38;5;124m'\u001b[39m, \u001b[38;5;124m'\u001b[39m\u001b[38;5;124mfish\u001b[39m\u001b[38;5;124m'\u001b[39m]\n\u001b[0;32m----> 3\u001b[0m \u001b[38;5;28mprint\u001b[39m(\u001b[43mA_List_of_Items\u001b[49m)\n",
      "\u001b[0;31mNameError\u001b[0m: name 'A_List_of_Items' is not defined"
     ]
    }
   ],
   "source": [
    "a_list_of_items = ['cat', 'dog', 'fish']\n",
    "\n",
    "print(A_List_of_Items)"
   ]
  },
  {
   "cell_type": "markdown",
   "id": "fc086d73-6eb1-4e02-b82b-4dabde130366",
   "metadata": {},
   "source": [
    "Some words are reserved in Python. Do not redefine them in your program to avoid an unexpected behavior."
   ]
  },
  {
   "cell_type": "code",
   "execution_count": 2,
   "id": "40f9feed-03bb-46fd-b5d0-0da68d73beee",
   "metadata": {},
   "outputs": [],
   "source": [
    "import keyword"
   ]
  },
  {
   "cell_type": "markdown",
   "id": "6b3146a3-8e9f-436e-a3e2-d190457e7e52",
   "metadata": {},
   "source": [
    "Here are the list of reserved words."
   ]
  },
  {
   "cell_type": "code",
   "execution_count": 4,
   "id": "b75edf6f-f0ed-4954-aa8a-86be55c22e3a",
   "metadata": {},
   "outputs": [
    {
     "data": {
      "text/plain": [
       "'False, None, True, __peg_parser__, and, as, assert, async, await, break, class, continue, def, del, elif, else, except, finally, for, from, global, if, import, in, is, lambda, nonlocal, not, or, pass, raise, return, try, while, with, yield'"
      ]
     },
     "execution_count": 4,
     "metadata": {},
     "output_type": "execute_result"
    }
   ],
   "source": [
    "', '.join(keyword.kwlist)"
   ]
  },
  {
   "cell_type": "markdown",
   "id": "78614a2d-56f1-46f5-b55c-0763e5963930",
   "metadata": {},
   "source": [
    "## Python style guide."
   ]
  },
  {
   "cell_type": "markdown",
   "id": "2803692d-bf67-46db-a5ad-273e807f16a0",
   "metadata": {},
   "source": [
    "Follow Python style guide to facilitate code sharing and readability."
   ]
  },
  {
   "cell_type": "markdown",
   "id": "62bc095b-df98-4fc2-b4f3-72a563be0bbe",
   "metadata": {},
   "source": [
    "https://peps.python.org/pep-0008/"
   ]
  },
  {
   "cell_type": "code",
   "execution_count": 9,
   "id": "8e7e94f3-af19-4f85-8903-11ec303586b0",
   "metadata": {},
   "outputs": [],
   "source": [
    "a_list_of_items = [] # snake-case for variable\n",
    "_a_list_of_items = []\n",
    "__a_list_of_items = []\n",
    "\n",
    "aListOfItems = [] # camel case not used.\n",
    "AListOfItems = [] # Pascal case for class.\n",
    "ALISTOFITEMS = [] # Uppercase letters are for a constant.\n",
    "PI = 3.14\n",
    "A_LIST_OF_ITEMS = [] # Uppercase letters with underscore are also used for a constant"
   ]
  },
  {
   "cell_type": "code",
   "execution_count": 8,
   "id": "1de07b02-2ea6-4560-8e33-5e6ae0738944",
   "metadata": {},
   "outputs": [],
   "source": [
    "# Avoid using dunder (two underscores before and after the name)"
   ]
  },
  {
   "cell_type": "code",
   "execution_count": null,
   "id": "f4996151-eb85-43cc-9d40-1ccc84fe7dd7",
   "metadata": {},
   "outputs": [],
   "source": []
  }
 ],
 "metadata": {
  "kernelspec": {
   "display_name": "Python 3 (ipykernel)",
   "language": "python",
   "name": "python3"
  },
  "language_info": {
   "codemirror_mode": {
    "name": "ipython",
    "version": 3
   },
   "file_extension": ".py",
   "mimetype": "text/x-python",
   "name": "python",
   "nbconvert_exporter": "python",
   "pygments_lexer": "ipython3",
   "version": "3.9.12"
  }
 },
 "nbformat": 4,
 "nbformat_minor": 5
}
