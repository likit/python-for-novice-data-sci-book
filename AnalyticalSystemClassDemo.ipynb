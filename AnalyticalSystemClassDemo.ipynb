{
 "cells": [
  {
   "cell_type": "markdown",
   "id": "94a93aa4-5f8e-4b2b-98d3-e9ae297bfcea",
   "metadata": {},
   "source": [
    "# Analytical System Demo"
   ]
  },
  {
   "cell_type": "code",
   "execution_count": 5,
   "id": "8ca8d0c6-a1a3-4325-9127-64b769489e03",
   "metadata": {},
   "outputs": [],
   "source": [
    "import time\n",
    "import random\n",
    "import datetime"
   ]
  },
  {
   "cell_type": "code",
   "execution_count": 1,
   "id": "a9ace259-896e-4abd-ba8b-473bf4de40e5",
   "metadata": {},
   "outputs": [],
   "source": [
    "class AutomaticMachine():\n",
    "    \"\"\"Version 2.0\"\"\"\n",
    "    def __init__(self, model, test_duration):   \n",
    "        self.ready = False  # class attribute\n",
    "        self.test_duration = test_duration\n",
    "        self.model = model\n",
    "    def analyze(self, test, specimens):  # class method\n",
    "        if self.ready:\n",
    "            print(f'analyzing {test} in {specimens}, this will take approximately {self.test_duration[test]} seconds..')\n",
    "            time.sleep(self.test_duration[test])\n",
    "            print('done..')\n",
    "        else:\n",
    "            print('this machine is not ready yet.')\n",
    "            \n",
    "    def calibrate(self):\n",
    "        print(f'calibrating..')\n",
    "        time.sleep(2)\n",
    "        self.ready = True\n",
    "        print(f'done..')\n",
    "        \n",
    "    def __str__(self):  # a special method for converting an object to string\n",
    "        return self.model"
   ]
  },
  {
   "cell_type": "code",
   "execution_count": 3,
   "id": "23da434e-3670-4519-bd88-d7a31b028a48",
   "metadata": {},
   "outputs": [],
   "source": [
    "class MALDITOF(AutomaticMachine):\n",
    "    \"Version 1.0\"\n",
    "    def __init__(self, model):  # It is important to call super() to initiate the object\n",
    "        super().__init__(model, {'identification': 2})\n",
    "    def analyze(self, specimens):  # class method\n",
    "        if self.ready:\n",
    "            print(f'identifying a colony from {specimens}, this will take about {self.test_duration[\"identification\"]} seconds..')\n",
    "            time.sleep(self.test_duration['identification'])\n",
    "            print(f'done.. the result is {random.choices([\"E.coli\", \"K.pneumoniae\", \"A.baumanii\"])}')\n",
    "        else:\n",
    "            print('this machine is not ready yet.')"
   ]
  },
  {
   "cell_type": "code",
   "execution_count": 4,
   "id": "1973f621-aba2-4fd7-8d79-fc96c77a20f4",
   "metadata": {},
   "outputs": [],
   "source": [
    "class LabRequest():\n",
    "    def __init__(self, ordered_at, by, tests):\n",
    "        self.tests = tests\n",
    "        self.ordered_at = ordered_at\n",
    "        self.received_at = None\n",
    "        self.finished_at = None\n",
    "        self.by = by"
   ]
  },
  {
   "cell_type": "code",
   "execution_count": 6,
   "id": "9b7075e8-d927-4898-bce5-99d76240534a",
   "metadata": {},
   "outputs": [],
   "source": [
    "class LabTest:\n",
    "    def __init__(self,\n",
    "                 name,\n",
    "                 specimen,\n",
    "                 unit,\n",
    "                 method,\n",
    "                 is_active=True,\n",
    "                 result=None,\n",
    "                 price=None,\n",
    "                 add_datetime=None,\n",
    "                ):\n",
    "        self.name = name\n",
    "        self.specimen = specimen\n",
    "        self.unit = unit\n",
    "        self.method = method\n",
    "\n",
    "    def __str__(self):  # dunders\n",
    "        return self.name"
   ]
  },
  {
   "cell_type": "code",
   "execution_count": 7,
   "id": "83464e09-a897-49fb-a794-f4e7980c0c68",
   "metadata": {},
   "outputs": [],
   "source": [
    "class AnalyticalSystem:\n",
    "    def __init__(self, lab_name):\n",
    "        self.test_machine_mappings = {}\n",
    "        self.automatic_machines = []\n",
    "\n",
    "    def add_automation(self, machine):\n",
    "        self.automatic_machines.append(machine)\n",
    "        for test_name, time in machine.test_duration.items():\n",
    "            print('mapping..', test_name, time)\n",
    "            self.test_machine_mappings[test_name] = machine\n",
    "\n",
    "    def create_machine(self, model, test_duration):\n",
    "        self.add_automation(AutomaticMachine(model, test_duration))\n",
    "\n",
    "    def analyze_order(self, order):\n",
    "        for test in order.tests:\n",
    "            machine = self.test_machine_mappings[test.name]\n",
    "            if not machine.ready:\n",
    "                machine.calibrate()\n",
    "            if isinstance(machine, MALDITOF):\n",
    "                machine.analyze(test.specimen)\n",
    "            elif isinstance(machine, AutomaticMachine):\n",
    "                machine.analyze(test.name, test.specimen)"
   ]
  },
  {
   "cell_type": "markdown",
   "id": "dace6481-dcd1-4622-b0da-7cd888a00006",
   "metadata": {},
   "source": [
    "# Feature Requests"
   ]
  },
  {
   "cell_type": "markdown",
   "id": "737cab29-40b8-4203-ad9a-a7a2352e6c67",
   "metadata": {},
   "source": [
    "- The system could be able to create and add a new machine.\n",
    "- The machine could be able to accept new test.\n",
    "- The system could be able to add new test.\n",
    "- The system could operate a batch orders.\n",
    "- The system should be able to store the results."
   ]
  },
  {
   "cell_type": "code",
   "execution_count": null,
   "id": "38a446d9-1fe5-4195-8a59-42fb54443999",
   "metadata": {},
   "outputs": [],
   "source": []
  }
 ],
 "metadata": {
  "kernelspec": {
   "display_name": "Python 3 (ipykernel)",
   "language": "python",
   "name": "python3"
  },
  "language_info": {
   "codemirror_mode": {
    "name": "ipython",
    "version": 3
   },
   "file_extension": ".py",
   "mimetype": "text/x-python",
   "name": "python",
   "nbconvert_exporter": "python",
   "pygments_lexer": "ipython3",
   "version": "3.13.5"
  }
 },
 "nbformat": 4,
 "nbformat_minor": 5
}
